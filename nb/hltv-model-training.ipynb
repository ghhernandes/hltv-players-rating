{
 "cells": [
  {
   "cell_type": "markdown",
   "id": "increasing-gambling",
   "metadata": {},
   "source": [
    "## sklearn LinearRegression model"
   ]
  },
  {
   "cell_type": "code",
   "execution_count": 3,
   "id": "cellular-manufacturer",
   "metadata": {},
   "outputs": [],
   "source": [
    "import numpy as np\n",
    "import pandas as pd\n",
    "from sklearn.linear_model import LinearRegression\n",
    "from sklearn.model_selection import train_test_split\n",
    "from sklearn.metrics import r2_score, mean_squared_error, mean_absolute_error"
   ]
  },
  {
   "cell_type": "code",
   "execution_count": 30,
   "id": "suspended-forge",
   "metadata": {},
   "outputs": [
    {
     "data": {
      "text/html": [
       "<div>\n",
       "<style scoped>\n",
       "    .dataframe tbody tr th:only-of-type {\n",
       "        vertical-align: middle;\n",
       "    }\n",
       "\n",
       "    .dataframe tbody tr th {\n",
       "        vertical-align: top;\n",
       "    }\n",
       "\n",
       "    .dataframe thead th {\n",
       "        text-align: right;\n",
       "    }\n",
       "</style>\n",
       "<table border=\"1\" class=\"dataframe\">\n",
       "  <thead>\n",
       "    <tr style=\"text-align: right;\">\n",
       "      <th></th>\n",
       "      <th>rating</th>\n",
       "      <th>kast</th>\n",
       "      <th>kpr</th>\n",
       "      <th>dpr</th>\n",
       "      <th>impact</th>\n",
       "      <th>adr</th>\n",
       "    </tr>\n",
       "  </thead>\n",
       "  <tbody>\n",
       "    <tr>\n",
       "      <th>0</th>\n",
       "      <td>1.34</td>\n",
       "      <td>74.8%</td>\n",
       "      <td>0.86</td>\n",
       "      <td>0.62</td>\n",
       "      <td>1.48</td>\n",
       "      <td>89.4</td>\n",
       "    </tr>\n",
       "    <tr>\n",
       "      <th>1</th>\n",
       "      <td>1.24</td>\n",
       "      <td>73.7%</td>\n",
       "      <td>0.85</td>\n",
       "      <td>0.64</td>\n",
       "      <td>1.35</td>\n",
       "      <td>86.1</td>\n",
       "    </tr>\n",
       "    <tr>\n",
       "      <th>2</th>\n",
       "      <td>1.26</td>\n",
       "      <td>76.0%</td>\n",
       "      <td>0.77</td>\n",
       "      <td>0.54</td>\n",
       "      <td>1.22</td>\n",
       "      <td>79.4</td>\n",
       "    </tr>\n",
       "    <tr>\n",
       "      <th>3</th>\n",
       "      <td>1.22</td>\n",
       "      <td>72.0%</td>\n",
       "      <td>0.80</td>\n",
       "      <td>0.61</td>\n",
       "      <td>1.30</td>\n",
       "      <td>80.6</td>\n",
       "    </tr>\n",
       "    <tr>\n",
       "      <th>4</th>\n",
       "      <td>1.20</td>\n",
       "      <td>73.6%</td>\n",
       "      <td>0.79</td>\n",
       "      <td>0.60</td>\n",
       "      <td>1.25</td>\n",
       "      <td>81.0</td>\n",
       "    </tr>\n",
       "  </tbody>\n",
       "</table>\n",
       "</div>"
      ],
      "text/plain": [
       "   rating   kast   kpr   dpr impact   adr\n",
       "0    1.34  74.8%  0.86  0.62   1.48  89.4\n",
       "1    1.24  73.7%  0.85  0.64   1.35  86.1\n",
       "2    1.26  76.0%  0.77  0.54   1.22  79.4\n",
       "3    1.22  72.0%  0.80  0.61   1.30  80.6\n",
       "4    1.20  73.6%  0.79  0.60   1.25  81.0"
      ]
     },
     "execution_count": 30,
     "metadata": {},
     "output_type": "execute_result"
    }
   ],
   "source": [
    "df = pd.read_csv('ratings.csv')\n",
    "df.head()"
   ]
  },
  {
   "cell_type": "code",
   "execution_count": 31,
   "id": "cardiac-queens",
   "metadata": {},
   "outputs": [
    {
     "data": {
      "text/plain": [
       "rating    float64\n",
       "kast       object\n",
       "kpr       float64\n",
       "dpr       float64\n",
       "impact     object\n",
       "adr        object\n",
       "dtype: object"
      ]
     },
     "execution_count": 31,
     "metadata": {},
     "output_type": "execute_result"
    }
   ],
   "source": [
    "df.dtypes"
   ]
  },
  {
   "cell_type": "markdown",
   "id": "varying-papua",
   "metadata": {},
   "source": [
    "## Types conversion"
   ]
  },
  {
   "cell_type": "code",
   "execution_count": 29,
   "id": "faced-contact",
   "metadata": {},
   "outputs": [],
   "source": [
    "def to_float(x: str) -> float:\n",
    "    try:\n",
    "        x = x.replace('%', '')\n",
    "        return float(x)\n",
    "    except:\n",
    "        return 0.00\n",
    "\n",
    "df['kast'] = list(map(to_float, df['kast']))\n",
    "df['impact'] = list(map(to_float, df['impact']))\n",
    "df['adr'] = list(map(to_float, df['adr']))"
   ]
  },
  {
   "cell_type": "code",
   "execution_count": 19,
   "id": "based-baker",
   "metadata": {},
   "outputs": [
    {
     "data": {
      "text/plain": [
       "rating    float64\n",
       "kast      float64\n",
       "kpr       float64\n",
       "dpr       float64\n",
       "impact    float64\n",
       "adr       float64\n",
       "dtype: object"
      ]
     },
     "execution_count": 19,
     "metadata": {},
     "output_type": "execute_result"
    }
   ],
   "source": [
    "df.dtypes"
   ]
  },
  {
   "cell_type": "code",
   "execution_count": 20,
   "id": "working-camera",
   "metadata": {},
   "outputs": [
    {
     "data": {
      "text/html": [
       "<div>\n",
       "<style scoped>\n",
       "    .dataframe tbody tr th:only-of-type {\n",
       "        vertical-align: middle;\n",
       "    }\n",
       "\n",
       "    .dataframe tbody tr th {\n",
       "        vertical-align: top;\n",
       "    }\n",
       "\n",
       "    .dataframe thead th {\n",
       "        text-align: right;\n",
       "    }\n",
       "</style>\n",
       "<table border=\"1\" class=\"dataframe\">\n",
       "  <thead>\n",
       "    <tr style=\"text-align: right;\">\n",
       "      <th></th>\n",
       "      <th>rating</th>\n",
       "      <th>kast</th>\n",
       "      <th>kpr</th>\n",
       "      <th>dpr</th>\n",
       "      <th>impact</th>\n",
       "      <th>adr</th>\n",
       "    </tr>\n",
       "  </thead>\n",
       "  <tbody>\n",
       "    <tr>\n",
       "      <th>0</th>\n",
       "      <td>1.34</td>\n",
       "      <td>74.8</td>\n",
       "      <td>0.86</td>\n",
       "      <td>0.62</td>\n",
       "      <td>1.48</td>\n",
       "      <td>89.4</td>\n",
       "    </tr>\n",
       "    <tr>\n",
       "      <th>1</th>\n",
       "      <td>1.24</td>\n",
       "      <td>73.7</td>\n",
       "      <td>0.85</td>\n",
       "      <td>0.64</td>\n",
       "      <td>1.35</td>\n",
       "      <td>86.1</td>\n",
       "    </tr>\n",
       "    <tr>\n",
       "      <th>2</th>\n",
       "      <td>1.26</td>\n",
       "      <td>76.0</td>\n",
       "      <td>0.77</td>\n",
       "      <td>0.54</td>\n",
       "      <td>1.22</td>\n",
       "      <td>79.4</td>\n",
       "    </tr>\n",
       "    <tr>\n",
       "      <th>3</th>\n",
       "      <td>1.22</td>\n",
       "      <td>72.0</td>\n",
       "      <td>0.80</td>\n",
       "      <td>0.61</td>\n",
       "      <td>1.30</td>\n",
       "      <td>80.6</td>\n",
       "    </tr>\n",
       "    <tr>\n",
       "      <th>4</th>\n",
       "      <td>1.20</td>\n",
       "      <td>73.6</td>\n",
       "      <td>0.79</td>\n",
       "      <td>0.60</td>\n",
       "      <td>1.25</td>\n",
       "      <td>81.0</td>\n",
       "    </tr>\n",
       "  </tbody>\n",
       "</table>\n",
       "</div>"
      ],
      "text/plain": [
       "   rating  kast   kpr   dpr  impact   adr\n",
       "0    1.34  74.8  0.86  0.62    1.48  89.4\n",
       "1    1.24  73.7  0.85  0.64    1.35  86.1\n",
       "2    1.26  76.0  0.77  0.54    1.22  79.4\n",
       "3    1.22  72.0  0.80  0.61    1.30  80.6\n",
       "4    1.20  73.6  0.79  0.60    1.25  81.0"
      ]
     },
     "execution_count": 20,
     "metadata": {},
     "output_type": "execute_result"
    }
   ],
   "source": [
    "df.head()"
   ]
  },
  {
   "cell_type": "markdown",
   "id": "continuing-classic",
   "metadata": {},
   "source": [
    "## Data load"
   ]
  },
  {
   "cell_type": "code",
   "execution_count": 24,
   "id": "adopted-secretariat",
   "metadata": {},
   "outputs": [],
   "source": [
    "X = np.array(df[['dpr', 'kast', 'impact', 'adr', 'kpr']])\n",
    "y = np.array(df[['rating']])"
   ]
  },
  {
   "cell_type": "code",
   "execution_count": 25,
   "id": "cleared-rehabilitation",
   "metadata": {},
   "outputs": [],
   "source": [
    "X_train, X_test, y_train, y_test = train_test_split(X, y, random_state=0,\n",
    "                                                    test_size=0.2)"
   ]
  },
  {
   "cell_type": "markdown",
   "id": "nervous-asian",
   "metadata": {},
   "source": [
    "## Train & Scores"
   ]
  },
  {
   "cell_type": "code",
   "execution_count": 26,
   "id": "classical-express",
   "metadata": {},
   "outputs": [
    {
     "data": {
      "text/plain": [
       "0.49074074007473845"
      ]
     },
     "execution_count": 26,
     "metadata": {},
     "output_type": "execute_result"
    }
   ],
   "source": [
    "reg = LinearRegression().fit(X_train, y_train)\n",
    "reg.score(X_test, y_test)"
   ]
  },
  {
   "cell_type": "code",
   "execution_count": 42,
   "id": "accompanied-refund",
   "metadata": {},
   "outputs": [
    {
     "name": "stdout",
     "output_type": "stream",
     "text": [
      "Coefficients: [[-5.49675329e-01  6.74824619e-03  1.60900273e-01 -4.99125230e-04\n",
      "   9.05451206e-01]]\n",
      "R2 score:0.5032026561793783\n",
      "RMSE:0.052974992819747525\n",
      "MAE:0.02553702518752474\n"
     ]
    }
   ],
   "source": [
    "y_pred = reg.predict(X_test)\n",
    "\n",
    "print(f'Coefficients: {reg.coef_}')\n",
    "\n",
    "print(f'R2 score:{r2_score(y_test, y_pred)}')\n",
    "print(f'RMSE:{mean_squared_error(y_test, y_pred, squared=False)}')\n",
    "print(f'MAE:{mean_absolute_error(y_test, y_pred)}')"
   ]
  },
  {
   "cell_type": "code",
   "execution_count": 1,
   "id": "sought-transfer",
   "metadata": {},
   "outputs": [],
   "source": [
    "import torch\n",
    "import torch.nn as nn\n",
    "import torch.optim as optim"
   ]
  },
  {
   "cell_type": "code",
   "execution_count": null,
   "id": "greater-mumbai",
   "metadata": {},
   "outputs": [],
   "source": [
    "class HLTVRatingModel(nn.Module):\n",
    "    def __init__(self):\n",
    "        super(HLTVRatingModel, self).__init__()\n",
    "        self.linear = nn.Linear(5, 1)\n",
    "        \n",
    "    def forward(self, x):\n",
    "        return self.linear(x)"
   ]
  }
 ],
 "metadata": {
  "kernelspec": {
   "display_name": "Python 3",
   "language": "python",
   "name": "python3"
  },
  "language_info": {
   "codemirror_mode": {
    "name": "ipython",
    "version": 3
   },
   "file_extension": ".py",
   "mimetype": "text/x-python",
   "name": "python",
   "nbconvert_exporter": "python",
   "pygments_lexer": "ipython3",
   "version": "3.8.3"
  }
 },
 "nbformat": 4,
 "nbformat_minor": 5
}
